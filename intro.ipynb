{
 "cells": [
  {
   "cell_type": "markdown",
   "id": "dd0d2cf6",
   "metadata": {},
   "source": [
    "### Import Libraries"
   ]
  },
  {
   "cell_type": "code",
   "execution_count": null,
   "id": "0348b763",
   "metadata": {},
   "outputs": [],
   "source": [
    "import os\n",
    "from langchain_google_genai import ChatGoogleGenerativeAI\n",
    "from langchain.agents import initialize_agent, Tool\n",
    "from langchain.agents.agent_types import AgentType\n",
    "from langchain.tools import tool\n",
    "from dotenv import load_dotenv\n",
    "import json\n",
    "\n",
    "# Cargar API key desde .env\n",
    "load_dotenv()\n",
    "api_key = os.getenv(\"GEMINI_API_KEY\")"
   ]
  },
  {
   "cell_type": "markdown",
   "id": "b769142a",
   "metadata": {},
   "source": [
    "### Defines the functions to control the mixer"
   ]
  },
  {
   "cell_type": "code",
   "execution_count": 37,
   "id": "e6e8a96b",
   "metadata": {},
   "outputs": [],
   "source": [
    "@tool\n",
    "def adjust_volume(input: str) -> str:\n",
    "    \"\"\"\n",
    "    Ajusta el volumen del canal.\n",
    "    Formato esperado: '2 bajo' (canal nivel)\n",
    "    \"\"\"\n",
    "    try:\n",
    "        channel, level = input.strip().split()\n",
    "        return f\"✅ Volumen del canal {channel} ajustado a {level}\"\n",
    "    except Exception:\n",
    "        return \"❌ Formato incorrecto. Usa: '<canal> <nivel>'\"\n",
    "\n",
    "@tool\n",
    "def adjust_eq(input: str) -> str:\n",
    "    \"\"\"\n",
    "    Ajusta la ecualización.\n",
    "    Formato: '2 graves subir'\n",
    "    \"\"\"\n",
    "    try:\n",
    "        channel, freq, action = input.strip().split()\n",
    "        return f\"✅ EQ canal {channel}: {freq} {action}\"\n",
    "    except Exception:\n",
    "        return \"❌ Formato inválido. Usa: '<canal> <frecuencia> <acción>'\"\n",
    "\n",
    "@tool\n",
    "def mute_channel(input: str) -> str:\n",
    "    \"\"\"Silencia el canal especificado (ej: '3')\"\"\"\n",
    "    return f\"✅ Canal {input.strip()} silenciado\"\n",
    "\n",
    "\n",
    "tools = [adjust_volume, adjust_eq, mute_channel]"
   ]
  },
  {
   "cell_type": "markdown",
   "id": "e48f620a",
   "metadata": {},
   "source": [
    "### Call llm"
   ]
  },
  {
   "cell_type": "code",
   "execution_count": 38,
   "id": "48614c9f",
   "metadata": {},
   "outputs": [],
   "source": [
    "llm = ChatGoogleGenerativeAI(\n",
    "    model=\"gemini-2.0-flash\",\n",
    "    google_api_key=api_key,\n",
    "    temperature=0.4\n",
    ")\n",
    "\n",
    "agent = initialize_agent(\n",
    "    tools=tools,\n",
    "    llm=llm,\n",
    "    agent=AgentType.ZERO_SHOT_REACT_DESCRIPTION,\n",
    "    verbose=True,\n",
    "    agent_kwargs={\n",
    "        \"prefix\": \"Sos un asistente de sonido que controla un mixer digital con comandos de texto. Podés ajustar volumen, EQ (graves, medios, agudos) y silenciar canales. Usá las herramientas disponibles para ejecutar acciones precisas, lo que retornes retornalo en formato json en LENGUAJE INGLES, en el cual retorne cosas como channel, eq, etc.\",\n",
    "    }\n",
    ")\n"
   ]
  },
  {
   "cell_type": "markdown",
   "id": "0f99a5e4",
   "metadata": {},
   "source": [
    "### This is the main function that calls the function to connect langchain to llm."
   ]
  },
  {
   "cell_type": "code",
   "execution_count": 39,
   "id": "61d5930f",
   "metadata": {},
   "outputs": [
    {
     "name": "stdout",
     "output_type": "stream",
     "text": [
      "🎛️ Mixer inteligente (Langchain + Gemini)\n"
     ]
    }
   ],
   "source": [
    "if __name__ == \"__main__\":\n",
    "    print(\"🎛️ Mixer inteligente (Langchain + Gemini)\")\n",
    "    while True:\n",
    "        user_input = input(\"📢 Instrucción: \")\n",
    "        if user_input.lower() in [\"exit\", \"salir\"]:\n",
    "            break\n",
    "        result = agent.run(user_input)\n",
    "        print(\"🤖 Acción tomada:\", result)"
   ]
  }
 ],
 "metadata": {
  "kernelspec": {
   "display_name": "mix_ai_env",
   "language": "python",
   "name": "python3"
  },
  "language_info": {
   "codemirror_mode": {
    "name": "ipython",
    "version": 3
   },
   "file_extension": ".py",
   "mimetype": "text/x-python",
   "name": "python",
   "nbconvert_exporter": "python",
   "pygments_lexer": "ipython3",
   "version": "3.13.5"
  }
 },
 "nbformat": 4,
 "nbformat_minor": 5
}
